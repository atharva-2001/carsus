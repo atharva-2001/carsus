{
 "cells": [
  {
   "cell_type": "markdown",
   "metadata": {},
   "source": [
    "# Quickstart for Carsus\n",
    "\n",
    "In this guide you will learn how to create atomic data files suitable for [TARDIS](https://github.com/tardis-sn/tardis).\n",
    "\n",
    "<div class=\"alert alert-info\">\n",
    "\n",
    "**Note:**\n",
    "\n",
    "Get familiar with the [Notation in Carsus](development/notation.rst) and learn how to correctly select ions.\n",
    "    \n",
    "</div>"
   ]
  },
  {
   "cell_type": "markdown",
   "metadata": {},
   "source": [
    "## Atomic Weights and Ionization Energies (NIST)\n",
    "\n",
    "Download atomic weights and ionization energies from the National Institute of Standards and Technology (NIST)."
   ]
  },
  {
   "cell_type": "code",
   "execution_count": 1,
   "metadata": {
    "execution": {
     "iopub.execute_input": "2024-04-12T13:31:04.295066Z",
     "iopub.status.busy": "2024-04-12T13:31:04.294758Z",
     "iopub.status.idle": "2024-04-12T13:31:05.543350Z",
     "shell.execute_reply": "2024-04-12T13:31:05.543098Z"
    }
   },
   "outputs": [
    {
     "name": "stdout",
     "output_type": "stream",
     "text": [
      " ChiantiPy version 0.8.4 \n",
      " found PyQt5 widgets\n",
      " using PyQt5 widgets\n"
     ]
    }
   ],
   "source": [
    "from carsus.io.nist import NISTWeightsComp, NISTIonizationEnergies"
   ]
  },
  {
   "cell_type": "code",
   "execution_count": 2,
   "metadata": {
    "execution": {
     "iopub.execute_input": "2024-04-12T13:31:05.546325Z",
     "iopub.status.busy": "2024-04-12T13:31:05.545999Z",
     "iopub.status.idle": "2024-04-12T13:31:08.331179Z",
     "shell.execute_reply": "2024-04-12T13:31:08.330894Z"
    }
   },
   "outputs": [
    {
     "name": "stdout",
     "output_type": "stream",
     "text": [
      "[\u001b[1m carsus.io.nist.weightscomp\u001b[0m][   \u001b[1;37mINFO\u001b[0m] - Downloading data from the carsus-dat-nist repository (\u001b[1mweightscomp.py\u001b[0m:72)\n"
     ]
    },
    {
     "name": "stdout",
     "output_type": "stream",
     "text": [
      "[\u001b[1m                py.warnings\u001b[0m][\u001b[1;33mWARNING\u001b[0m] - /home/runner/micromamba/envs/carsus/lib/python3.7/site-packages/urllib3/connectionpool.py:1110: InsecureRequestWarning: Unverified HTTPS request is being made to host 'raw.githubusercontent.com'. Adding certificate verification is strongly advised. See: https://urllib3.readthedocs.io/en/latest/advanced-usage.html#tls-warnings\n",
      "  InsecureRequestWarning,\n",
      " (\u001b[1mwarnings.py\u001b[0m:110)\n"
     ]
    },
    {
     "name": "stdout",
     "output_type": "stream",
     "text": [
      "[\u001b[1m  carsus.io.nist.ionization\u001b[0m][   \u001b[1;37mINFO\u001b[0m] - Downloading ionization energies from the carsus-data-nist repo. (\u001b[1mionization.py\u001b[0m:89)\n"
     ]
    },
    {
     "name": "stdout",
     "output_type": "stream",
     "text": [
      "[\u001b[1m                py.warnings\u001b[0m][\u001b[1;33mWARNING\u001b[0m] - /home/runner/micromamba/envs/carsus/lib/python3.7/site-packages/urllib3/connectionpool.py:1110: InsecureRequestWarning: Unverified HTTPS request is being made to host 'raw.githubusercontent.com'. Adding certificate verification is strongly advised. See: https://urllib3.readthedocs.io/en/latest/advanced-usage.html#tls-warnings\n",
      "  InsecureRequestWarning,\n",
      " (\u001b[1mwarnings.py\u001b[0m:110)\n"
     ]
    }
   ],
   "source": [
    "atomic_weights = NISTWeightsComp()\n",
    "ionization_energies = NISTIonizationEnergies('H-Zn')"
   ]
  },
  {
   "cell_type": "markdown",
   "metadata": {},
   "source": [
    "## Levels, Lines, Collisions & Cross-sections\n",
    "\n",
    "Carsus supports three sources of energy levels and spectral lines: **GFALL**, **CHIANTI** and **CMFGEN**.\n",
    "\n",
    "### GFALL\n",
    "\n",
    "The Robert Kurucz's Atomic Linelist (GFALL) reader is the main source of **levels and lines**.\n",
    "\n",
    "<div class=\"alert alert-warning\">\n",
    "\n",
    "**Warning:**\n",
    "    \n",
    "Creating a `GFALLReader` instance is **required**.\n",
    "\n",
    "</div>"
   ]
  },
  {
   "cell_type": "code",
   "execution_count": 3,
   "metadata": {
    "execution": {
     "iopub.execute_input": "2024-04-12T13:31:08.334653Z",
     "iopub.status.busy": "2024-04-12T13:31:08.334430Z",
     "iopub.status.idle": "2024-04-12T13:31:10.069530Z",
     "shell.execute_reply": "2024-04-12T13:31:10.069347Z"
    }
   },
   "outputs": [],
   "source": [
    "!wget -qO /tmp/gfall.dat https://media.githubusercontent.com/media/tardis-sn/carsus-db/master/gfall/gfall_latest.dat"
   ]
  },
  {
   "cell_type": "code",
   "execution_count": 4,
   "metadata": {
    "execution": {
     "iopub.execute_input": "2024-04-12T13:31:10.074085Z",
     "iopub.status.busy": "2024-04-12T13:31:10.073062Z",
     "iopub.status.idle": "2024-04-12T13:31:10.076928Z",
     "shell.execute_reply": "2024-04-12T13:31:10.076729Z"
    }
   },
   "outputs": [
    {
     "name": "stdout",
     "output_type": "stream",
     "text": [
      "[\u001b[1m     carsus.io.kurucz.gfall\u001b[0m][\u001b[1;33mWARNING\u001b[0m] - A specific combination to identify unique levels from GFALL data has not been given. Defaulting to [\"energy\", \"j\"]. (\u001b[1mgfall.py\u001b[0m:129)\n"
     ]
    }
   ],
   "source": [
    "from carsus.io.kurucz import GFALLReader\n",
    "\n",
    "gfall_reader = GFALLReader('H-Zn',\n",
    "                           '/tmp/gfall.dat')"
   ]
  },
  {
   "cell_type": "markdown",
   "metadata": {},
   "source": [
    "### CHIANTI\n",
    "\n",
    "The Chianti Atomic Database reader provides levels and lines but also **collision strengths**.\n",
    "\n",
    "<div class=\"alert alert-info\">\n",
    "\n",
    "**Note:**\n",
    "\n",
    "Creating a `ChiantiReader` instance is **optional**. \n",
    "\n",
    "</div>"
   ]
  },
  {
   "cell_type": "code",
   "execution_count": 5,
   "metadata": {
    "execution": {
     "iopub.execute_input": "2024-04-12T13:31:10.083975Z",
     "iopub.status.busy": "2024-04-12T13:31:10.081842Z",
     "iopub.status.idle": "2024-04-12T13:31:10.228734Z",
     "shell.execute_reply": "2024-04-12T13:31:10.228866Z"
    }
   },
   "outputs": [],
   "source": [
    "from carsus.io.chianti_ import ChiantiReader\n",
    "\n",
    "chianti_reader = ChiantiReader('H-He', \n",
    "                               collisions=True, \n",
    "                               priority=20)"
   ]
  },
  {
   "cell_type": "markdown",
   "metadata": {},
   "source": [
    "By default `priority` parameter is set to `10`. Increase this value if you want to keep CHIANTI levels and lines over GFALL."
   ]
  },
  {
   "cell_type": "markdown",
   "metadata": {},
   "source": [
    "### CMFGEN\n",
    "\n",
    "The atomic database of [CMFGEN](http://kookaburra.phyast.pitt.edu/hillier/web/CMFGEN.htm) is a source of levels, lines and (optionally) **ionization energies**, **photoionization cross-sections** and **collisions**.\n",
    "\n",
    "<div class=\"alert alert-info\">\n",
    "    \n",
    "**Note:**\n",
    "\n",
    "Creating a `CMFGENReader` instance is **optional**. \n",
    "\n",
    "</div>"
   ]
  },
  {
   "cell_type": "markdown",
   "metadata": {},
   "source": [
    "<div class=\"alert alert-warning\">\n",
    "\n",
    "**Warning:**\n",
    "    \n",
    "Cross-sections require data from `H 0`, use this the reader with enough `priority` to select levels from this ion.\n",
    "\n",
    "</div>"
   ]
  },
  {
   "cell_type": "code",
   "execution_count": 6,
   "metadata": {
    "execution": {
     "iopub.execute_input": "2024-04-12T13:31:10.233392Z",
     "iopub.status.busy": "2024-04-12T13:31:10.233071Z",
     "iopub.status.idle": "2024-04-12T13:31:13.892770Z",
     "shell.execute_reply": "2024-04-12T13:31:13.892595Z"
    }
   },
   "outputs": [
    {
     "name": "stdout",
     "output_type": "stream",
     "text": [
      "[\u001b[1m      carsus.io.cmfgen.base\u001b[0m][\u001b[1;33mWARNING\u001b[0m] - Selecting H 0 from CMFGEN (required to ingest cross-sections). (\u001b[1mbase.py\u001b[0m:557)\n"
     ]
    },
    {
     "name": "stdout",
     "output_type": "stream",
     "text": [
      "[\u001b[1m      carsus.io.cmfgen.base\u001b[0m][   \u001b[1;37mINFO\u001b[0m] - Configuration schema found for H 0. (\u001b[1mbase.py\u001b[0m:571)\n"
     ]
    },
    {
     "name": "stdout",
     "output_type": "stream",
     "text": [
      "[\u001b[1m      carsus.io.cmfgen.base\u001b[0m][   \u001b[1;37mINFO\u001b[0m] - Configuration schema found for Si 0. (\u001b[1mbase.py\u001b[0m:571)\n"
     ]
    },
    {
     "name": "stdout",
     "output_type": "stream",
     "text": [
      "[\u001b[1m      carsus.io.cmfgen.base\u001b[0m][   \u001b[1;37mINFO\u001b[0m] - Configuration schema found for Si 1. (\u001b[1mbase.py\u001b[0m:571)\n"
     ]
    },
    {
     "name": "stdout",
     "output_type": "stream",
     "text": [
      "[\u001b[1m      carsus.io.cmfgen.base\u001b[0m][   \u001b[1;37mINFO\u001b[0m] - Loading atomic data for H 0. (\u001b[1mbase.py\u001b[0m:854)\n"
     ]
    },
    {
     "name": "stdout",
     "output_type": "stream",
     "text": [
      "[\u001b[1m      carsus.io.cmfgen.base\u001b[0m][   \u001b[1;37mINFO\u001b[0m] - Loading atomic data for Si 0. (\u001b[1mbase.py\u001b[0m:854)\n"
     ]
    },
    {
     "name": "stdout",
     "output_type": "stream",
     "text": [
      "[\u001b[1m      carsus.io.cmfgen.base\u001b[0m][   \u001b[1;37mINFO\u001b[0m] - Loading atomic data for Si 1. (\u001b[1mbase.py\u001b[0m:854)\n"
     ]
    }
   ],
   "source": [
    "from carsus.io.cmfgen import CMFGENReader\n",
    "\n",
    "cmfgen_reader = CMFGENReader.from_config('Si 0-1', \n",
    "                                         '/tmp/atomic', \n",
    "                                         priority=30,\n",
    "                                         ionization_energies=True,\n",
    "                                         cross_sections=True,\n",
    "                                         collisions=False,\n",
    "                                         temperature_grid=None,\n",
    "                                         drop_mismatched_labels=True)"
   ]
  },
  {
   "cell_type": "markdown",
   "metadata": {},
   "source": [
    "## Zeta Data\n",
    "\n",
    "Long & Knigge's ground state recombinations fractions ($\\zeta$)."
   ]
  },
  {
   "cell_type": "code",
   "execution_count": 7,
   "metadata": {
    "execution": {
     "iopub.execute_input": "2024-04-12T13:31:13.897257Z",
     "iopub.status.busy": "2024-04-12T13:31:13.896947Z",
     "iopub.status.idle": "2024-04-12T13:31:13.922059Z",
     "shell.execute_reply": "2024-04-12T13:31:13.921812Z"
    }
   },
   "outputs": [],
   "source": [
    "from carsus.io.zeta import KnoxLongZeta\n",
    "\n",
    "zeta_data = KnoxLongZeta()"
   ]
  },
  {
   "cell_type": "markdown",
   "metadata": {},
   "source": [
    "## Nuclear decay data\n",
    "\n",
    "Carsus also supports the decay radiation data of all the nuclides at the [NNDC Archives](https://www.nndc.bnl.gov/ensdfarchivals/). The ENSDF data is stored in CSV format in the repository [carsus-data-nndc](https://github.com/tardis-sn/carsus-data-nndc).\n",
    "\n",
    "### NNDC\n",
    "\n",
    "The NNDCReader instance looks for the `carsus-data-nndc` repository in the local system at the path specified by the argument `dirname`. If the data is to be downloaded from the Github repository directly , the `remote` argument should be set to `True`.\n",
    "\n",
    "<div class=\"alert alert-info\">\n",
    "    \n",
    "**Note:**\n",
    "\n",
    "Creating a `NNDCReader` instance is **optional**. \n",
    "\n",
    "</div>"
   ]
  },
  {
   "cell_type": "code",
   "execution_count": 8,
   "metadata": {
    "execution": {
     "iopub.execute_input": "2024-04-12T13:31:13.925054Z",
     "iopub.status.busy": "2024-04-12T13:31:13.924840Z",
     "iopub.status.idle": "2024-04-12T13:31:13.941929Z",
     "shell.execute_reply": "2024-04-12T13:31:13.942091Z"
    }
   },
   "outputs": [
    {
     "name": "stdout",
     "output_type": "stream",
     "text": [
      "[\u001b[1m     carsus.io.nuclear.nndc\u001b[0m][\u001b[1;33mWARNING\u001b[0m] - Failed to clone the repository.\n",
      "Check if the repository already exists at {DECAY_DATA_SOURCE_DIR} (\u001b[1mnndc.py\u001b[0m:44)\n"
     ]
    },
    {
     "name": "stdout",
     "output_type": "stream",
     "text": [
      "[\u001b[1m     carsus.io.nuclear.nndc\u001b[0m][   \u001b[1;37mINFO\u001b[0m] - Parsing decay data from: /home/runner/Downloads/carsus-data-nndc/csv (\u001b[1mnndc.py\u001b[0m:50)\n"
     ]
    },
    {
     "name": "stderr",
     "output_type": "stream",
     "text": [
      "fatal: destination path '/home/runner/Downloads/carsus-data-nndc' already exists and is not an empty directory.\n"
     ]
    }
   ],
   "source": [
    "from carsus.io.nuclear import NNDCReader\n",
    "\n",
    "nndc_reader = NNDCReader(remote=True)"
   ]
  },
  {
   "cell_type": "markdown",
   "metadata": {},
   "source": [
    "## Create an Atomic Data File\n",
    "\n",
    "Finally, create a `TARDISAtomData` object and dump the data with the `to_hdf` method."
   ]
  },
  {
   "cell_type": "code",
   "execution_count": 9,
   "metadata": {
    "execution": {
     "iopub.execute_input": "2024-04-12T13:31:13.951994Z",
     "iopub.status.busy": "2024-04-12T13:31:13.950869Z",
     "iopub.status.idle": "2024-04-12T13:32:59.892237Z",
     "shell.execute_reply": "2024-04-12T13:32:59.892059Z"
    },
    "scrolled": true
   },
   "outputs": [
    {
     "name": "stdout",
     "output_type": "stream",
     "text": [
      "[\u001b[1m      carsus.io.output.base\u001b[0m][   \u001b[1;37mINFO\u001b[0m] - Ingesting energy levels. (\u001b[1mbase.py\u001b[0m:363)\n"
     ]
    },
    {
     "name": "stdout",
     "output_type": "stream",
     "text": [
      "[\u001b[1m     carsus.io.kurucz.gfall\u001b[0m][   \u001b[1;37mINFO\u001b[0m] - Parsing GFALL from: /tmp/gfall.dat (\u001b[1mgfall.py\u001b[0m:182)\n"
     ]
    },
    {
     "name": "stdout",
     "output_type": "stream",
     "text": [
      "[\u001b[1m      carsus.io.output.base\u001b[0m][   \u001b[1;37mINFO\u001b[0m] - GFALL selected species: Li 0, Li 1, Be 0, Be 1, Be 2, B 0, B 1, B 2, B 3, C 0, C 1, C 2, C 3, N 0, N 1, N 2, N 3, N 4, N 5, O 0, O 1, O 2, O 3, O 4, O 5, F 0, F 1, F 2, F 3, F 4, F 5, Ne 0, Ne 1, Ne 2, Ne 3, Ne 4, Ne 5, Na 0, Na 1, Na 2, Na 3, Na 4, Na 5, Mg 0, Mg 1, Mg 2, Mg 3, Mg 4, Mg 5, Al 0, Al 1, Al 2, Al 3, Al 4, Al 5, Si 2, Si 3, Si 4, Si 5, P 0, P 1, P 2, P 3, P 4, P 5, S 0, S 1, S 2, S 3, S 4, S 5, Cl 0, Cl 1, Cl 2, Cl 3, Cl 4, Ar 0, Ar 1, Ar 2, Ar 3, Ar 4, K 0, K 1, K 2, K 3, K 4, Ca 0, Ca 1, Ca 2, Ca 3, Ca 4, Ca 5, Ca 6, Ca 7, Ca 8, Sc 0, Sc 1, Sc 2, Sc 3, Sc 4, Sc 5, Sc 6, Sc 7, Sc 8, Ti 0, Ti 1, Ti 2, Ti 3, Ti 4, Ti 5, Ti 6, Ti 7, Ti 8, V 0, V 1, V 2, V 3, V 4, V 5, V 6, V 7, V 8, Cr 0, Cr 1, Cr 2, Cr 3, Cr 4, Cr 5, Cr 6, Cr 7, Cr 8, Mn 0, Mn 1, Mn 2, Mn 3, Mn 4, Mn 5, Mn 6, Mn 7, Mn 8, Fe 0, Fe 1, Fe 2, Fe 3, Fe 4, Fe 5, Fe 6, Fe 7, Fe 8, Co 0, Co 1, Co 2, Co 3, Co 4, Co 5, Co 6, Co 7, Co 8, Ni 0, Ni 1, Ni 2, Ni 3, Ni 4, Ni 5, Ni 6, Ni 7, Ni 8, Cu 0, Cu 1, Zn 0, Zn 1, Zn 2. (\u001b[1mbase.py\u001b[0m:404)\n"
     ]
    },
    {
     "name": "stdout",
     "output_type": "stream",
     "text": [
      "[\u001b[1m      carsus.io.output.base\u001b[0m][   \u001b[1;37mINFO\u001b[0m] - Chianti selected species: He 0, He 1. (\u001b[1mbase.py\u001b[0m:408)\n"
     ]
    },
    {
     "name": "stdout",
     "output_type": "stream",
     "text": [
      "[\u001b[1m      carsus.io.output.base\u001b[0m][   \u001b[1;37mINFO\u001b[0m] - CMFGEN selected species: H 0, Si 0, Si 1. (\u001b[1mbase.py\u001b[0m:412)\n"
     ]
    },
    {
     "name": "stdout",
     "output_type": "stream",
     "text": [
      "[\u001b[1m  carsus.io.nist.ionization\u001b[0m][\u001b[1;33mWARNING\u001b[0m] - Set `J=0` for ground state of species `Fe 6`. (\u001b[1mionization.py\u001b[0m:248)\n"
     ]
    },
    {
     "name": "stdout",
     "output_type": "stream",
     "text": [
      "[\u001b[1m      carsus.io.output.base\u001b[0m][   \u001b[1;37mINFO\u001b[0m] - Ingesting transition lines. (\u001b[1mbase.py\u001b[0m:471)\n"
     ]
    },
    {
     "name": "stdout",
     "output_type": "stream",
     "text": [
      "[\u001b[1m     carsus.io.kurucz.gfall\u001b[0m][   \u001b[1;37mINFO\u001b[0m] - Extracting line data: atomic_number, ion_charge, energy_lower, j_lower, energy_upper, j_upper, wavelength, loggf. (\u001b[1mgfall.py\u001b[0m:425)\n"
     ]
    },
    {
     "name": "stdout",
     "output_type": "stream",
     "text": [
      "[\u001b[1m      carsus.io.output.base\u001b[0m][   \u001b[1;37mINFO\u001b[0m] - Matching levels and lines. (\u001b[1mbase.py\u001b[0m:517)\n"
     ]
    },
    {
     "name": "stdout",
     "output_type": "stream",
     "text": [
      "[\u001b[1m                py.warnings\u001b[0m][\u001b[1;33mWARNING\u001b[0m] - /home/runner/micromamba/envs/carsus/lib/python3.7/site-packages/pandas/core/series.py:679: RuntimeWarning: divide by zero encountered in log10\n",
      "  result = getattr(ufunc, method)(*inputs, **kwargs)\n",
      " (\u001b[1mwarnings.py\u001b[0m:110)\n"
     ]
    },
    {
     "name": "stdout",
     "output_type": "stream",
     "text": [
      "[\u001b[1m      carsus.io.output.base\u001b[0m][   \u001b[1;37mINFO\u001b[0m] - Ingesting collisional strengths. (\u001b[1mbase.py\u001b[0m:686)\n"
     ]
    },
    {
     "name": "stdout",
     "output_type": "stream",
     "text": [
      "[\u001b[1m      carsus.io.output.base\u001b[0m][   \u001b[1;37mINFO\u001b[0m] - Matching collisions and levels. (\u001b[1mbase.py\u001b[0m:698)\n"
     ]
    },
    {
     "name": "stdout",
     "output_type": "stream",
     "text": [
      "[\u001b[1m      carsus.io.output.base\u001b[0m][   \u001b[1;37mINFO\u001b[0m] - Ingesting photoionization cross-sections. (\u001b[1mbase.py\u001b[0m:804)\n"
     ]
    },
    {
     "name": "stdout",
     "output_type": "stream",
     "text": [
      "[\u001b[1m      carsus.io.output.base\u001b[0m][   \u001b[1;37mINFO\u001b[0m] - Matching levels and cross sections. (\u001b[1mbase.py\u001b[0m:807)\n"
     ]
    },
    {
     "name": "stdout",
     "output_type": "stream",
     "text": [
      "[\u001b[1m      carsus.io.output.base\u001b[0m][   \u001b[1;37mINFO\u001b[0m] - Finished. (\u001b[1mbase.py\u001b[0m:129)\n"
     ]
    }
   ],
   "source": [
    "from carsus.io.output import TARDISAtomData\n",
    "\n",
    "atom_data = TARDISAtomData(atomic_weights,\n",
    "                           ionization_energies,\n",
    "                           gfall_reader,\n",
    "                           zeta_data,\n",
    "                           chianti_reader,\n",
    "                           cmfgen_reader,\n",
    "                           nndc_reader)"
   ]
  },
  {
   "cell_type": "code",
   "execution_count": 10,
   "metadata": {
    "execution": {
     "iopub.execute_input": "2024-04-12T13:32:59.895196Z",
     "iopub.status.busy": "2024-04-12T13:32:59.894946Z",
     "iopub.status.idle": "2024-04-12T13:33:30.445396Z",
     "shell.execute_reply": "2024-04-12T13:33:30.445546Z"
    }
   },
   "outputs": [
    {
     "name": "stdout",
     "output_type": "stream",
     "text": [
      "[\u001b[1m                py.warnings\u001b[0m][\u001b[1;33mWARNING\u001b[0m] - /home/runner/micromamba/envs/carsus/lib/python3.7/site-packages/IPython/core/interactiveshell.py:3552: PerformanceWarning: \n",
      "your performance may suffer as PyTables will pickle object types that it cannot\n",
      "map directly to c-types [inferred_type->mixed-integer,key->block1_values] [items->Index(['Element', 'Parent E(level)', 'Uncertainty', 'JPi', 'Decay Mode',\n",
      "       'Q Value Uncertainty', 'T1/2 (txt)', 'Gammas Balance', 'X-Rays Balance',\n",
      "       'B- Balance', 'B+ Balance', 'Conversion Electrons Balance',\n",
      "       'Auger Electrons Balance', 'Neutrinos Balance', 'Recoil Balance',\n",
      "       'Neutrons Balance', ' Protons Balance', 'Alphas Balance', 'Sum Balance',\n",
      "       'Q-effective Balance', 'Missing Energy Balance', 'Ratio Balance',\n",
      "       'Daughter', 'Radiation', 'Rad subtype', 'Uncertainty.1',\n",
      "       'Uncertainty.3', 'Uncertainty.4'],\n",
      "      dtype='object')]\n",
      "\n",
      "  exec(code_obj, self.user_global_ns, self.user_ns)\n",
      " (\u001b[1mwarnings.py\u001b[0m:110)\n"
     ]
    },
    {
     "name": "stdout",
     "output_type": "stream",
     "text": [
      "[\u001b[1m                py.warnings\u001b[0m][\u001b[1;33mWARNING\u001b[0m] - /home/runner/micromamba/envs/carsus/lib/python3.7/site-packages/IPython/core/interactiveshell.py:3552: PerformanceWarning: \n",
      "your performance may suffer as PyTables will pickle object types that it cannot\n",
      "map directly to c-types [inferred_type->mixed,key->values] [items->None]\n",
      "\n",
      "  exec(code_obj, self.user_global_ns, self.user_ns)\n",
      " (\u001b[1mwarnings.py\u001b[0m:110)\n"
     ]
    },
    {
     "name": "stdout",
     "output_type": "stream",
     "text": [
      "[\u001b[1m                py.warnings\u001b[0m][\u001b[1;33mWARNING\u001b[0m] - /home/runner/micromamba/envs/carsus/lib/python3.7/site-packages/pyarrow/serialization.py:165: FutureWarning: The SparseDataFrame class is removed from pandas. Accessing it from the top-level namespace will also be removed in the next version\n",
      "  if isinstance(obj, pd.SparseDataFrame):\n",
      " (\u001b[1mwarnings.py\u001b[0m:110)\n"
     ]
    },
    {
     "name": "stdout",
     "output_type": "stream",
     "text": [
      "[\u001b[1m                py.warnings\u001b[0m][\u001b[1;33mWARNING\u001b[0m] - /home/runner/micromamba/envs/carsus/lib/python3.7/site-packages/pyarrow/serialization.py:176: FutureWarning: The SparseSeries class is removed from pandas. Accessing it from the top-level namespace will also be removed in the next version\n",
      "  if isinstance(obj, pd.SparseSeries):\n",
      " (\u001b[1mwarnings.py\u001b[0m:110)\n"
     ]
    },
    {
     "name": "stdout",
     "output_type": "stream",
     "text": [
      "[\u001b[1m      carsus.io.output.base\u001b[0m][   \u001b[1;37mINFO\u001b[0m] - Signing TARDISAtomData. (\u001b[1mbase.py\u001b[0m:1306)\n"
     ]
    },
    {
     "name": "stdout",
     "output_type": "stream",
     "text": [
      "[\u001b[1m      carsus.io.output.base\u001b[0m][   \u001b[1;37mINFO\u001b[0m] - Format Version: 1.0 (\u001b[1mbase.py\u001b[0m:1307)\n"
     ]
    },
    {
     "name": "stdout",
     "output_type": "stream",
     "text": [
      "[\u001b[1m      carsus.io.output.base\u001b[0m][   \u001b[1;37mINFO\u001b[0m] - MD5: 8f71b4735a2a69e2b14f89ec1aec1e8e (\u001b[1mbase.py\u001b[0m:1308)\n"
     ]
    },
    {
     "name": "stdout",
     "output_type": "stream",
     "text": [
      "[\u001b[1m      carsus.io.output.base\u001b[0m][   \u001b[1;37mINFO\u001b[0m] - UUID1: 4032f960f8d111eeaef36045bd4a9cde (\u001b[1mbase.py\u001b[0m:1309)\n"
     ]
    }
   ],
   "source": [
    "atom_data.to_hdf('kurucz_cd23_chianti_He_cmfgen_H_Si_I-II.h5')"
   ]
  },
  {
   "cell_type": "markdown",
   "metadata": {},
   "source": [
    "You are done! Now you can use your file to run TARDIS simulations."
   ]
  },
  {
   "cell_type": "markdown",
   "metadata": {},
   "source": [
    "### Metadata\n",
    "\n",
    "Carsus stores metadata inside the HDF5 files to ensure reproducibility. This metadata includes a checksum for each stored table, version number or checksum of selected datasets, and versions of relevant packages. "
   ]
  },
  {
   "cell_type": "code",
   "execution_count": 11,
   "metadata": {
    "execution": {
     "iopub.execute_input": "2024-04-12T13:33:30.448898Z",
     "iopub.status.busy": "2024-04-12T13:33:30.448633Z",
     "iopub.status.idle": "2024-04-12T13:33:30.450511Z",
     "shell.execute_reply": "2024-04-12T13:33:30.450636Z"
    }
   },
   "outputs": [],
   "source": [
    "import pandas as pd"
   ]
  },
  {
   "cell_type": "code",
   "execution_count": 12,
   "metadata": {
    "execution": {
     "iopub.execute_input": "2024-04-12T13:33:30.454036Z",
     "iopub.status.busy": "2024-04-12T13:33:30.453790Z",
     "iopub.status.idle": "2024-04-12T13:33:30.455660Z",
     "shell.execute_reply": "2024-04-12T13:33:30.455525Z"
    }
   },
   "outputs": [],
   "source": [
    "store = pd.HDFStore('kurucz_cd23_chianti_He_cmfgen_H_Si_I-II.h5', key='metadata')"
   ]
  },
  {
   "cell_type": "code",
   "execution_count": 13,
   "metadata": {
    "execution": {
     "iopub.execute_input": "2024-04-12T13:33:30.459322Z",
     "iopub.status.busy": "2024-04-12T13:33:30.459017Z",
     "iopub.status.idle": "2024-04-12T13:33:30.473383Z",
     "shell.execute_reply": "2024-04-12T13:33:30.473513Z"
    }
   },
   "outputs": [
    {
     "data": {
      "text/html": [
       "<div>\n",
       "<style scoped>\n",
       "    .dataframe tbody tr th:only-of-type {\n",
       "        vertical-align: middle;\n",
       "    }\n",
       "\n",
       "    .dataframe tbody tr th {\n",
       "        vertical-align: top;\n",
       "    }\n",
       "\n",
       "    .dataframe thead th {\n",
       "        text-align: right;\n",
       "    }\n",
       "</style>\n",
       "<table border=\"1\" class=\"dataframe\">\n",
       "  <thead>\n",
       "    <tr style=\"text-align: right;\">\n",
       "      <th></th>\n",
       "      <th></th>\n",
       "      <th>value</th>\n",
       "    </tr>\n",
       "    <tr>\n",
       "      <th>field</th>\n",
       "      <th>key</th>\n",
       "      <th></th>\n",
       "    </tr>\n",
       "  </thead>\n",
       "  <tbody>\n",
       "    <tr>\n",
       "      <th>format</th>\n",
       "      <th>version</th>\n",
       "      <td>1.0</td>\n",
       "    </tr>\n",
       "    <tr>\n",
       "      <th rowspan=\"12\" valign=\"top\">md5sum</th>\n",
       "      <th>atom_data</th>\n",
       "      <td>634785f05c4868f929c85c02828d4ef8</td>\n",
       "    </tr>\n",
       "    <tr>\n",
       "      <th>collisions_data</th>\n",
       "      <td>0f19bec97c3b770c6ed7e78be2cd1efd</td>\n",
       "    </tr>\n",
       "    <tr>\n",
       "      <th>collisions_metadata</th>\n",
       "      <td>2139b8beb1db60823290c24aa0d5a464</td>\n",
       "    </tr>\n",
       "    <tr>\n",
       "      <th>ionization_data</th>\n",
       "      <td>8e5cc288a013018b8f37eee48dfdb2c5</td>\n",
       "    </tr>\n",
       "    <tr>\n",
       "      <th>levels_data</th>\n",
       "      <td>aa695d9348461d452e04970959f7ec32</td>\n",
       "    </tr>\n",
       "    <tr>\n",
       "      <th>lines_data</th>\n",
       "      <td>aa58ecd7e85a89016d03e513df973995</td>\n",
       "    </tr>\n",
       "    <tr>\n",
       "      <th>lines_metadata</th>\n",
       "      <td>736d8321848fa598443cbd807732a8dc</td>\n",
       "    </tr>\n",
       "    <tr>\n",
       "      <th>macro_atom_data</th>\n",
       "      <td>1244eb0abb974e485ca387639c78d545</td>\n",
       "    </tr>\n",
       "    <tr>\n",
       "      <th>macro_atom_references</th>\n",
       "      <td>4e6ae567911277dc6883a9a815b23163</td>\n",
       "    </tr>\n",
       "    <tr>\n",
       "      <th>nuclear_decay_rad</th>\n",
       "      <td>51d08a42853fdbf2013e1b24e674a27d</td>\n",
       "    </tr>\n",
       "    <tr>\n",
       "      <th>photoionization_data</th>\n",
       "      <td>b0c86b51740f1a4b620170b34daf0ae5</td>\n",
       "    </tr>\n",
       "    <tr>\n",
       "      <th>zeta_data</th>\n",
       "      <td>f2496cec5c219dfb6d637df8e92fd3f0</td>\n",
       "    </tr>\n",
       "    <tr>\n",
       "      <th rowspan=\"6\" valign=\"top\">datasets</th>\n",
       "      <th>nist_weights</th>\n",
       "      <td>4.1</td>\n",
       "    </tr>\n",
       "    <tr>\n",
       "      <th>nist_spectra</th>\n",
       "      <td>5.11</td>\n",
       "    </tr>\n",
       "    <tr>\n",
       "      <th>gfall</th>\n",
       "      <td>2704fbda0b8cba61bb70426234224464</td>\n",
       "    </tr>\n",
       "    <tr>\n",
       "      <th>zeta</th>\n",
       "      <td>a1d4bed2982e8d6a4f8b0076bf637e49</td>\n",
       "    </tr>\n",
       "    <tr>\n",
       "      <th>chianti</th>\n",
       "      <td>9.0.1</td>\n",
       "    </tr>\n",
       "    <tr>\n",
       "      <th>cmfgen</th>\n",
       "      <td>2016.11.15</td>\n",
       "    </tr>\n",
       "    <tr>\n",
       "      <th rowspan=\"8\" valign=\"top\">software</th>\n",
       "      <th>python</th>\n",
       "      <td>3.7.8</td>\n",
       "    </tr>\n",
       "    <tr>\n",
       "      <th>carsus</th>\n",
       "      <td>0.1.dev725+gd3c8e9d</td>\n",
       "    </tr>\n",
       "    <tr>\n",
       "      <th>astropy</th>\n",
       "      <td>3.2.3</td>\n",
       "    </tr>\n",
       "    <tr>\n",
       "      <th>numpy</th>\n",
       "      <td>1.15.4</td>\n",
       "    </tr>\n",
       "    <tr>\n",
       "      <th>pandas</th>\n",
       "      <td>1.0.5</td>\n",
       "    </tr>\n",
       "    <tr>\n",
       "      <th>pyarrow</th>\n",
       "      <td>0.14.1</td>\n",
       "    </tr>\n",
       "    <tr>\n",
       "      <th>tables</th>\n",
       "      <td>3.6.1</td>\n",
       "    </tr>\n",
       "    <tr>\n",
       "      <th>ChiantiPy</th>\n",
       "      <td>0.8.4</td>\n",
       "    </tr>\n",
       "  </tbody>\n",
       "</table>\n",
       "</div>"
      ],
      "text/plain": [
       "                                                           value\n",
       "field    key                                                    \n",
       "format   version                                             1.0\n",
       "md5sum   atom_data              634785f05c4868f929c85c02828d4ef8\n",
       "         collisions_data        0f19bec97c3b770c6ed7e78be2cd1efd\n",
       "         collisions_metadata    2139b8beb1db60823290c24aa0d5a464\n",
       "         ionization_data        8e5cc288a013018b8f37eee48dfdb2c5\n",
       "         levels_data            aa695d9348461d452e04970959f7ec32\n",
       "         lines_data             aa58ecd7e85a89016d03e513df973995\n",
       "         lines_metadata         736d8321848fa598443cbd807732a8dc\n",
       "         macro_atom_data        1244eb0abb974e485ca387639c78d545\n",
       "         macro_atom_references  4e6ae567911277dc6883a9a815b23163\n",
       "         nuclear_decay_rad      51d08a42853fdbf2013e1b24e674a27d\n",
       "         photoionization_data   b0c86b51740f1a4b620170b34daf0ae5\n",
       "         zeta_data              f2496cec5c219dfb6d637df8e92fd3f0\n",
       "datasets nist_weights                                        4.1\n",
       "         nist_spectra                                       5.11\n",
       "         gfall                  2704fbda0b8cba61bb70426234224464\n",
       "         zeta                   a1d4bed2982e8d6a4f8b0076bf637e49\n",
       "         chianti                                           9.0.1\n",
       "         cmfgen                                       2016.11.15\n",
       "software python                                            3.7.8\n",
       "         carsus                              0.1.dev725+gd3c8e9d\n",
       "         astropy                                           3.2.3\n",
       "         numpy                                            1.15.4\n",
       "         pandas                                            1.0.5\n",
       "         pyarrow                                          0.14.1\n",
       "         tables                                            3.6.1\n",
       "         ChiantiPy                                         0.8.4"
      ]
     },
     "execution_count": 13,
     "metadata": {},
     "output_type": "execute_result"
    }
   ],
   "source": [
    "store[\"metadata\"]"
   ]
  },
  {
   "cell_type": "code",
   "execution_count": 14,
   "metadata": {
    "execution": {
     "iopub.execute_input": "2024-04-12T13:33:30.476219Z",
     "iopub.status.busy": "2024-04-12T13:33:30.476025Z",
     "iopub.status.idle": "2024-04-12T13:33:30.478783Z",
     "shell.execute_reply": "2024-04-12T13:33:30.478524Z"
    }
   },
   "outputs": [
    {
     "data": {
      "text/plain": [
       "/._v_attrs (AttributeSet), 8 attributes:\n",
       "   [CLASS := 'GROUP',\n",
       "    DATE := '2024-04-12T13:33:30.403025+00:00',\n",
       "    FORMAT_VERSION := '1.0',\n",
       "    MD5 := '8f71b4735a2a69e2b14f89ec1aec1e8e',\n",
       "    PYTABLES_FORMAT_VERSION := '2.1',\n",
       "    TITLE := '',\n",
       "    UUID1 := '4032f960f8d111eeaef36045bd4a9cde',\n",
       "    VERSION := '1.0']"
      ]
     },
     "execution_count": 14,
     "metadata": {},
     "output_type": "execute_result"
    }
   ],
   "source": [
    "store.root._v_attrs"
   ]
  }
 ],
 "metadata": {
  "kernelspec": {
   "display_name": "Python 3",
   "language": "python",
   "name": "python3"
  },
  "language_info": {
   "codemirror_mode": {
    "name": "ipython",
    "version": 3
   },
   "file_extension": ".py",
   "mimetype": "text/x-python",
   "name": "python",
   "nbconvert_exporter": "python",
   "pygments_lexer": "ipython3",
   "version": "3.7.8"
  },
  "widgets": {
   "application/vnd.jupyter.widget-state+json": {
    "state": {},
    "version_major": 2,
    "version_minor": 0
   }
  }
 },
 "nbformat": 4,
 "nbformat_minor": 2
}
