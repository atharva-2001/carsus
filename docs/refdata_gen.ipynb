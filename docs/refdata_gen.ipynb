{
 "cells": [
  {
   "cell_type": "markdown",
   "metadata": {},
   "source": [
    "# Generate TARDIS Reference Data"
   ]
  },
  {
   "cell_type": "code",
   "execution_count": null,
   "metadata": {
    "ExecuteTime": {
     "end_time": "2022-07-29T09:16:29.906868Z",
     "start_time": "2022-07-29T09:16:28.516542Z"
    }
   },
   "outputs": [],
   "source": [
    "from carsus.io.nist import NISTWeightsComp, NISTIonizationEnergies"
   ]
  },
  {
   "cell_type": "code",
   "execution_count": null,
   "metadata": {
    "ExecuteTime": {
     "end_time": "2022-07-29T09:16:51.744919Z",
     "start_time": "2022-07-29T09:16:29.908561Z"
    }
   },
   "outputs": [],
   "source": [
    "atomic_weights = NISTWeightsComp()\n",
    "ionization_energies = NISTIonizationEnergies('H-Zn')"
   ]
  },
  {
   "cell_type": "code",
   "execution_count": null,
   "metadata": {
    "ExecuteTime": {
     "end_time": "2022-07-29T09:19:24.270027Z",
     "start_time": "2022-07-29T09:16:51.747861Z"
    }
   },
   "outputs": [],
   "source": [
    "!wget -qO /tmp/gfall.dat https://media.githubusercontent.com/media/tardis-sn/carsus-db/master/gfall/gfall_latest.dat"
   ]
  },
  {
   "cell_type": "code",
   "execution_count": null,
   "metadata": {
    "ExecuteTime": {
     "end_time": "2022-07-29T09:19:24.297355Z",
     "start_time": "2022-07-29T09:19:24.277033Z"
    }
   },
   "outputs": [],
   "source": [
    "from carsus.io.kurucz import GFALLReader\n",
    "\n",
    "gfall_reader = GFALLReader('H-Zn',\n",
    "                           '/tmp/gfall.dat')"
   ]
  },
  {
   "cell_type": "code",
   "execution_count": null,
   "metadata": {
    "ExecuteTime": {
     "end_time": "2022-07-29T09:19:24.530027Z",
     "start_time": "2022-07-29T09:19:24.302537Z"
    }
   },
   "outputs": [],
   "source": [
    "from carsus.io.chianti_ import ChiantiReader\n",
    "\n",
    "chianti_reader = ChiantiReader('H-He', \n",
    "                               collisions=True, \n",
    "                               priority=20)"
   ]
  },
  {
   "cell_type": "code",
   "execution_count": null,
   "metadata": {
    "ExecuteTime": {
     "end_time": "2022-07-29T09:19:25.982059Z",
     "start_time": "2022-07-29T09:19:24.533157Z"
    }
   },
   "outputs": [],
   "source": [
    "from carsus.io.zeta import KnoxLongZeta\n",
    "\n",
    "zeta_data = KnoxLongZeta()"
   ]
  },
  {
   "cell_type": "code",
   "execution_count": null,
   "metadata": {
    "ExecuteTime": {
     "end_time": "2022-07-29T09:19:26.046819Z",
     "start_time": "2022-07-29T09:19:25.988275Z"
    },
    "scrolled": true
   },
   "outputs": [],
   "source": [
    "from carsus.io.output import TARDISAtomData\n",
    "\n",
    "atom_data = TARDISAtomData(atomic_weights,\n",
    "                           ionization_energies,\n",
    "                           gfall_reader,\n",
    "                           zeta_data,\n",
    "                           chianti_reader)"
   ]
  },
  {
   "cell_type": "code",
   "execution_count": null,
   "metadata": {
    "ExecuteTime": {
     "end_time": "2022-07-29T09:19:26.052578Z",
     "start_time": "2022-07-29T09:19:26.052554Z"
    }
   },
   "outputs": [],
   "source": [
    "atom_data.to_hdf('kurucz_cd23_chianti_He_cmfgen_H_Si_I-II.h5')"
   ]
  }
 ],
 "metadata": {
  "kernelspec": {
   "display_name": "Python 3",
   "language": "python",
   "name": "python3"
  },
  "language_info": {
   "codemirror_mode": {
    "name": "ipython",
    "version": 3
   },
   "file_extension": ".py",
   "mimetype": "text/x-python",
   "name": "python",
   "nbconvert_exporter": "python",
   "pygments_lexer": "ipython3",
   "version": "3.7.12"
  },
  "varInspector": {
   "cols": {
    "lenName": 16,
    "lenType": 16,
    "lenVar": 40
   },
   "kernels_config": {
    "python": {
     "delete_cmd_postfix": "",
     "delete_cmd_prefix": "del ",
     "library": "var_list.py",
     "varRefreshCmd": "print(var_dic_list())"
    },
    "r": {
     "delete_cmd_postfix": ") ",
     "delete_cmd_prefix": "rm(",
     "library": "var_list.r",
     "varRefreshCmd": "cat(var_dic_list()) "
    }
   },
   "types_to_exclude": [
    "module",
    "function",
    "builtin_function_or_method",
    "instance",
    "_Feature"
   ],
   "window_display": false
  },
  "widgets": {
   "application/vnd.jupyter.widget-state+json": {
    "state": {},
    "version_major": 2,
    "version_minor": 0
   }
  }
 },
 "nbformat": 4,
 "nbformat_minor": 2
}
